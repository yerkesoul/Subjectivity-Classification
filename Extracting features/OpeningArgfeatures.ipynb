{
 "cells": [
  {
   "cell_type": "code",
   "execution_count": 116,
   "id": "112828cb",
   "metadata": {},
   "outputs": [],
   "source": [
    "import os, glob\n",
    "aljazeera=[]\n",
    "path_aljazeera= '/data/corpus-webis-editorials-16/annotated-txt/split-by-portal-final/aljazeera'\n",
    "for filename in glob.glob(os.path.join(path_aljazeera, '*.txt')):\n",
    "    with open(os.path.join(os.getcwd(), filename), 'r') as f: \n",
    "        lines = f.readlines()\n",
    "        aljazeera.append(lines)\n",
    "foxnews=[]\n",
    "path_foxnews= '/data/corpus-webis-editorials-16/annotated-txt/split-by-portal-final/foxnews'\n",
    "for filename in glob.glob(os.path.join(path_foxnews, '*.txt')):\n",
    "    with open(os.path.join(os.getcwd(), filename), 'r') as f: \n",
    "        lines = f.readlines()\n",
    "        foxnews.append(lines)\n",
    "guardian=[]\n",
    "path_guardian= '/data/corpus-webis-editorials-16/annotated-txt/split-by-portal-final/guardian'\n",
    "for filename in glob.glob(os.path.join(path_guardian, '*.txt')):\n",
    "    with open(os.path.join(os.getcwd(), filename), 'r') as f: \n",
    "        lines = f.readlines()\n",
    "        guardian.append(lines)"
   ]
  },
  {
   "cell_type": "code",
   "execution_count": 117,
   "id": "aefb1278",
   "metadata": {
    "scrolled": false
   },
   "outputs": [],
   "source": [
    "aljazeera_dict={}\n",
    "for doc in aljazeera:\n",
    "    every_doc={}\n",
    "    for line in doc:\n",
    "        line=line.replace(\"\\n\",\"\")\n",
    "        line=line.split(\"\\t\")\n",
    "        if line[1]=='title':\n",
    "            title=line[2]\n",
    "        else:\n",
    "            if line[1] not in every_doc:\n",
    "                every_doc[line[1]]=[]\n",
    "            every_doc[line[1]].append(line[2])\n",
    "    aljazeera_dict[title]=every_doc\n",
    "foxnews_dict={}\n",
    "for doc in foxnews:\n",
    "    every_doc={}\n",
    "    for line in doc:\n",
    "        line=line.replace(\"\\n\",\"\")\n",
    "        line=line.split(\"\\t\")\n",
    "        if line[1]=='title':\n",
    "            title=line[2]\n",
    "        else:\n",
    "            if line[1] not in every_doc:\n",
    "                every_doc[line[1]]=[]\n",
    "            every_doc[line[1]].append(line[2])\n",
    "    foxnews_dict[title]=every_doc\n",
    "guardian_dict={}\n",
    "for doc in guardian:\n",
    "    every_doc={}\n",
    "    for line in doc:\n",
    "        line=line.replace(\"\\n\",\"\")\n",
    "        line=line.split(\"\\t\")\n",
    "        if line[1]=='title':\n",
    "            title=line[2]\n",
    "        else:\n",
    "            if line[1] not in every_doc:\n",
    "                every_doc[line[1]]=[]\n",
    "            every_doc[line[1]].append(line[2])\n",
    "    guardian_dict[title]=every_doc"
   ]
  },
  {
   "cell_type": "code",
   "execution_count": 119,
   "id": "3e29a5ba",
   "metadata": {},
   "outputs": [
    {
     "data": {
      "text/plain": [
       "True"
      ]
     },
     "execution_count": 119,
     "metadata": {},
     "output_type": "execute_result"
    }
   ],
   "source": [
    "len(guardian_dict)==len(aljazeera_dict)==len(guardian_dict)"
   ]
  },
  {
   "cell_type": "code",
   "execution_count": 123,
   "id": "055c920b",
   "metadata": {},
   "outputs": [
    {
     "name": "stdout",
     "output_type": "stream",
     "text": [
      "20778\n",
      "19406\n",
      "21146\n"
     ]
    }
   ],
   "source": [
    "count_aljazeera=0\n",
    "count_foxnews=0\n",
    "count_guardian=0\n",
    "general_aljazeera={}\n",
    "for key,value in aljazeera_dict.items():\n",
    "    for k,v in value.items():\n",
    "        if k not in general_aljazeera:\n",
    "            general_aljazeera[k]=0\n",
    "        general_aljazeera[k]+=len(v)\n",
    "        count_aljazeera+=len(v)\n",
    "print(count_aljazeera)\n",
    "general_foxnews={}\n",
    "for key,value in foxnews_dict.items():\n",
    "    for k,v in value.items():\n",
    "        if k not in general_foxnews:\n",
    "            general_foxnews[k]=0\n",
    "        general_foxnews[k]+=len(v)\n",
    "        count_foxnews+=len(v)\n",
    "print(count_foxnews)\n",
    "general_guardian={}\n",
    "for key,value in guardian_dict.items():\n",
    "    for k,v in value.items():\n",
    "        if k not in general_guardian:\n",
    "            general_guardian[k]=0\n",
    "        general_guardian[k]+=len(v)\n",
    "        count_guardian+=len(v)\n",
    "print(count_guardian)"
   ]
  },
  {
   "cell_type": "code",
   "execution_count": 110,
   "id": "b0e42791",
   "metadata": {},
   "outputs": [
    {
     "data": {
      "image/png": "[encoded data removed]",
      "text/plain": [
       "<Figure size 432x288 with 1 Axes>"
      ]
     },
     "metadata": {
      "needs_background": "light"
     },
     "output_type": "display_data"
    }
   ],
   "source": [
    "import matplotlib.pyplot as plt\n",
    "sorted_aljazeera={k: v for k, v in sorted(general_aljazeera.items(), key=lambda item: item[1],reverse=True)}\n",
    "plt.bar(range(len(sorted_aljazeera)), list(sorted_aljazeera.values()), align='center')\n",
    "plt.xticks(range(len(sorted_aljazeera)), list(sorted_aljazeera.keys()),rotation=90)\n",
    "plt.title(\"Sentence distribution of Al Jazeera\")\n",
    "plt.show()"
   ]
  },
  {
   "cell_type": "code",
   "execution_count": 112,
   "id": "90991cea",
   "metadata": {},
   "outputs": [
    {
     "data": {
      "image/png": "[encoded data removed]",
      "text/plain": [
       "<Figure size 432x288 with 1 Axes>"
      ]
     },
     "metadata": {
      "needs_background": "light"
     },
     "output_type": "display_data"
    }
   ],
   "source": [
    "sorted_foxnews={k: v for k, v in sorted(general_foxnews.items(), key=lambda item: item[1],reverse=True)}\n",
    "plt.bar(range(len(sorted_foxnews)), list(sorted_foxnews.values()), align='center')\n",
    "plt.xticks(range(len(sorted_foxnews)), list(sorted_foxnews.keys()),rotation=90)\n",
    "plt.title(\"Sentence distribution of Fox News\")\n",
    "plt.show()"
   ]
  },
  {
   "cell_type": "code",
   "execution_count": 113,
   "id": "d41f15a7",
   "metadata": {},
   "outputs": [
    {
     "data": {
      "image/png": "[encoded data removed]",
      "text/plain": [
       "<Figure size 432x288 with 1 Axes>"
      ]
     },
     "metadata": {
      "needs_background": "light"
     },
     "output_type": "display_data"
    }
   ],
   "source": [
    "sorted_guardian={k: v for k, v in sorted(general_guardian.items(), key=lambda item: item[1],reverse=True)}\n",
    "plt.bar(range(len(sorted_guardian)), list(sorted_guardian.values()), align='center')\n",
    "plt.xticks(range(len(sorted_guardian)), list(sorted_guardian.keys()),rotation=90)\n",
    "plt.title(\"Sentence distribution of 'The Guardian'\")\n",
    "plt.show()"
   ]
  },
  {
   "cell_type": "code",
   "execution_count": 124,
   "id": "6ec1e1b1",
   "metadata": {},
   "outputs": [
    {
     "data": {
      "text/plain": [
       "{'par-sep': 1896,\n",
       " 'anecdote': 1038,\n",
       " 'no-unit': 5783,\n",
       " 'continued': 8170,\n",
       " 'assumption': 3297,\n",
       " 'testimony': 382,\n",
       " 'statistics': 141,\n",
       " 'common-ground': 59,\n",
       " 'other': 12}"
      ]
     },
     "execution_count": 124,
     "metadata": {},
     "output_type": "execute_result"
    }
   ],
   "source": [
    "general_aljazeera"
   ]
  },
  {
   "cell_type": "code",
   "execution_count": 125,
   "id": "13eefae8",
   "metadata": {},
   "outputs": [
    {
     "data": {
      "text/plain": [
       "{'par-sep': 1689,\n",
       " 'statistics': 143,\n",
       " 'no-unit': 5036,\n",
       " 'continued': 8165,\n",
       " 'assumption': 3004,\n",
       " 'other': 83,\n",
       " 'anecdote': 727,\n",
       " 'testimony': 455,\n",
       " 'common-ground': 104}"
      ]
     },
     "execution_count": 125,
     "metadata": {},
     "output_type": "execute_result"
    }
   ],
   "source": [
    "general_foxnews"
   ]
  },
  {
   "cell_type": "code",
   "execution_count": 126,
   "id": "0ceff46c",
   "metadata": {},
   "outputs": [
    {
     "data": {
      "text/plain": [
       "{'par-sep': 1079,\n",
       " 'continued': 9598,\n",
       " 'assumption': 3504,\n",
       " 'no-unit': 5580,\n",
       " 'anecdote': 842,\n",
       " 'other': 72,\n",
       " 'testimony': 254,\n",
       " 'statistics': 137,\n",
       " 'common-ground': 80}"
      ]
     },
     "execution_count": 126,
     "metadata": {},
     "output_type": "execute_result"
    }
   ],
   "source": [
    "general_guardian"
   ]
  },
  {
   "cell_type": "code",
   "execution_count": null,
   "id": "5a95f159",
   "metadata": {},
   "outputs": [],
   "source": []
  }
 ],
 "metadata": {
  "kernelspec": {
   "display_name": "Python 3 (ipykernel)",
   "language": "python",
   "name": "python3"
  },
  "language_info": {
   "codemirror_mode": {
    "name": "ipython",
    "version": 3
   },
   "file_extension": ".py",
   "mimetype": "text/x-python",
   "name": "python",
   "nbconvert_exporter": "python",
   "pygments_lexer": "ipython3",
   "version": "3.8.10"
  }
 },
 "nbformat": 4,
 "nbformat_minor": 5
}
