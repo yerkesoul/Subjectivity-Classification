{
 "cells": [
  {
   "cell_type": "code",
   "execution_count": null,
   "id": "12cc6365",
   "metadata": {},
   "outputs": [],
   "source": [
    "# Original directories\n",
    "    # webis-editorials-16\n",
    "    # wetransfer_nyt_corpus-zip_2022-11-28_1818.zip\n",
    "        # 01\n",
    "        # 02\n",
    "        # 03\n",
    "        # nyt_corpus.zip"
   ]
  },
  {
   "cell_type": "code",
   "execution_count": 8,
   "id": "c4410930",
   "metadata": {},
   "outputs": [
    {
     "name": "stdout",
     "output_type": "stream",
     "text": [
      "All files in Zip archive are extracted\n"
     ]
    }
   ],
   "source": [
    "# unzip .zip files\n",
    "import zipfile\n",
    "\n",
    "#Create Zipfile object to process the Archive file.\n",
    "#with zipfile.ZipFile('corpus-webis-editorials-16.zip', 'r') as unzipObject:\n",
    "#with zipfile.ZipFile('wetransfer_nyt_corpus-zip_2022-11-28_1818.zip', 'r') as unzipObject:\n",
    "with zipfile.ZipFile('nyt_corpus.zip', 'r') as unzipObject:\n",
    "\n",
    "    #Extract all files in one Go\n",
    "    unzipObject.extractall()\n",
    "\n",
    "print (\"All files in Zip archive are extracted\")"
   ]
  },
  {
   "cell_type": "code",
   "execution_count": 21,
   "id": "00ffd240",
   "metadata": {},
   "outputs": [
    {
     "name": "stdout",
     "output_type": "stream",
     "text": [
      "03.tgz\n",
      "03.tgz done.\n",
      "01.tgz\n",
      "01.tgz done.\n",
      "02.tgz\n",
      "02.tgz done.\n"
     ]
    }
   ],
   "source": [
    "#unzip .tgz files\n",
    "import os, tarfile #,sys\n",
    "\n",
    "def extract(tar_url, extract_path='.'):\n",
    "    print (tar_url)\n",
    "    tar = tarfile.open(tar_url, 'r')\n",
    "    for item in tar:\n",
    "        tar.extract(item, extract_path)\n",
    "        if item.name.find(\".tgz\") != -1 or item.name.find(\".tar\") != -1:\n",
    "            extract(item.name, \"./\" + item.name[:item.name.rfind('/')])\n",
    "        \n",
    "tgz_folder_list = [f for f in os.listdir() if f[-3:]=='tgz']\n",
    "\n",
    "for f in tgz_folder_list:\n",
    "    try:\n",
    "        extract(f)\n",
    "        print (f, 'done.')\n",
    "    #except:\n",
    "        #name = os.path.basename(sys.argv[0])\n",
    "        #print (name[:name.rfind('.')], '<filename>')"
   ]
  }
 ],
 "metadata": {
  "kernelspec": {
   "display_name": "Python 3 (ipykernel)",
   "language": "python",
   "name": "python3"
  },
  "language_info": {
   "codemirror_mode": {
    "name": "ipython",
    "version": 3
   },
   "file_extension": ".py",
   "mimetype": "text/x-python",
   "name": "python",
   "nbconvert_exporter": "python",
   "pygments_lexer": "ipython3",
   "version": "3.8.10"
  }
 },
 "nbformat": 4,
 "nbformat_minor": 5
}
